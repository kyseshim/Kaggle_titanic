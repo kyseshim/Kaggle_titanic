{
 "cells": [
  {
   "cell_type": "markdown",
   "id": "dd173b21",
   "metadata": {
    "ExecuteTime": {
     "end_time": "2022-08-04T16:29:22.393118Z",
     "start_time": "2022-08-04T16:29:21.164894Z"
    }
   },
   "source": [
    "# Kaggle Data Competition: Titanic - Machine Learning from Disaster"
   ]
  },
  {
   "cell_type": "markdown",
   "id": "45a77bbb",
   "metadata": {},
   "source": [
    "### Environment Setup"
   ]
  },
  {
   "cell_type": "code",
   "execution_count": null,
   "id": "64ec7ba0",
   "metadata": {},
   "outputs": [],
   "source": [
    "# Dataset: https://www.kaggle.com/c/titanic/data\n",
    "# Initial Kaggle Setup\n",
    "import pandas as pd\n",
    "import warnings\n",
    "\n",
    "# Ignoring warning sign\n",
    "%matplotlib inline\n",
    "warnings.filterwarnings('ignore')\n",
    "\n",
    "# data import\n",
    "train = pd.read_csv('data/train.csv')\n",
    "test = pd.read_csv('data/test.csv')\n",
    "gender_submission = pd.read_csv('data/gender_submission.csv')\n",
    "\n",
    "train.info()"
   ]
  },
  {
   "cell_type": "markdown",
   "id": "bc53ba82",
   "metadata": {},
   "source": [
    "### DataSet Information\n",
    "\n",
    "|Variable|Definition|Key|\n",
    "|------|---|---|\n",
    "|survival|Survival|0 = No, 1 = Yes|\n",
    "|pclass|Ticket class|1 = 1st, 2 = 2nd, 3 = 3rd|\n",
    "|Sex|Sex||\n",
    "|Age|Age in years||\n",
    "|sibsp|# of siblings / spouses aboard the Titanic||\n",
    "|parch|# of parents / children aboard the Titanic||\n",
    "|ticket|Ticket number||\n",
    "|fare|Passenger fare||\n",
    "|cabin|Cabin number||\n",
    "|embarked|Port of Embarkation|C = Cherbourg, Q = Queenstown, S = Southampton|\n",
    "\n",
    "### Variable Notes\n",
    "pclass: A proxy for socio-economic status (SES)\n",
    "1st = Upper\n",
    "2nd = Middle\n",
    "3rd = Lower\n",
    "age: Age is fractional if less than 1. If the age is estimated, is it in the form of xx.5\n",
    "sibsp: The dataset defines family relations in this way...\n",
    "Sibling = brother, sister, stepbrother, stepsister\n",
    "Spouse = husband, wife (mistresses and fiancés were ignored)\n",
    "parch: The dataset defines family relations in this way...\n",
    "Parent = mother, father\n",
    "Child = daughter, son, stepdaughter, stepson\n",
    "Some children travelled only with a nanny, therefore parch=0 for them.\n"
   ]
  },
  {
   "cell_type": "code",
   "execution_count": 3,
   "id": "f8354dbe",
   "metadata": {
    "ExecuteTime": {
     "end_time": "2022-08-04T16:29:23.123348Z",
     "start_time": "2022-08-04T16:29:23.109386Z"
    }
   },
   "outputs": [],
   "source": [
    "# transition of categorical data into numeric value\n",
    "train['Sex_clean'] = train['Sex'].astype('category').cat.codes\n",
    "test['Sex_clean'] = test['Sex'].astype('category').cat.codes"
   ]
  },
  {
   "cell_type": "code",
   "execution_count": 4,
   "id": "533bcc2e",
   "metadata": {
    "ExecuteTime": {
     "end_time": "2022-08-04T16:29:24.367396Z",
     "start_time": "2022-08-04T16:29:24.349460Z"
    }
   },
   "outputs": [],
   "source": [
    "train['Embarked'].isnull().sum()\n",
    "#2\n",
    "\n",
    "test['Embarked'].isnull().sum()\n",
    "# 0\n",
    "train['Embarked'].value_counts()\n",
    "# S    644 <- Pick this to fill NaN\n",
    "# C    168\n",
    "# Q     77\n",
    "\n",
    "# Fill the NaN Values\n",
    "train['Embarked'].fillna('S', inplace=True)\n",
    "\n",
    "# Transition of categorical data into numeric value\n",
    "train['Embarked_clean'] = train['Embarked'].astype('category').cat.codes\n",
    "test['Embarked_clean'] = test['Embarked'].astype('category').cat.codes"
   ]
  },
  {
   "cell_type": "code",
   "execution_count": 11,
   "id": "7b907f47",
   "metadata": {
    "ExecuteTime": {
     "end_time": "2022-08-04T19:32:35.839166Z",
     "start_time": "2022-08-04T19:32:35.830190Z"
    }
   },
   "outputs": [],
   "source": [
    "# Add Family and Solo Count, to clarify if solo status matters\n",
    "train['Family'] = 1 + train['SibSp'] + train['Parch']\n",
    "test['Family'] = 1 + test['SibSp'] + test['Parch']\n",
    "\n",
    "train['Solo'] = (train['Family'] == 1)\n",
    "test['Solo'] = (test['Family'] == 1)"
   ]
  },
  {
   "cell_type": "code",
   "execution_count": 12,
   "id": "5a80c15d",
   "metadata": {
    "ExecuteTime": {
     "end_time": "2022-08-04T19:32:37.012890Z",
     "start_time": "2022-08-04T19:32:36.994938Z"
    }
   },
   "outputs": [
    {
     "data": {
      "text/plain": [
       "1    184\n",
       "3    180\n",
       "0    179\n",
       "4    176\n",
       "2    172\n",
       "Name: Fare_clean, dtype: int64"
      ]
     },
     "execution_count": 12,
     "metadata": {},
     "output_type": "execute_result"
    }
   ],
   "source": [
    "train['FareBin'] = pd.qcut(train['Fare'], 5)\n",
    "test['FareBin'] = pd.qcut(test['Fare'], 5)\n",
    "\n",
    "train['FareBin'].value_counts()\n",
    "# (7.854, 10.5]        184\n",
    "# (21.679, 39.688]     180\n",
    "# (-0.001, 7.854]      179\n",
    "# (39.688, 512.329]    176\n",
    "# (10.5, 21.679]       172\n",
    "# Name: FareBin, dtype: int64\n",
    "\n",
    "train['Fare_clean'] = train['FareBin'].astype('category').cat.codes\n",
    "test['Fare_clean'] = test['FareBin'].astype('category').cat.codes\n",
    "\n",
    "train['Fare_clean'].value_counts()\n",
    "# 1    184\n",
    "# 3    180\n",
    "# 0    179\n",
    "# 4    176\n",
    "# 2    172\n",
    "# Name: Fare_clean, dtype: int64"
   ]
  },
  {
   "cell_type": "code",
   "execution_count": 23,
   "id": "1a7f91a2",
   "metadata": {
    "ExecuteTime": {
     "end_time": "2022-08-04T19:37:12.077093Z",
     "start_time": "2022-08-04T19:37:12.052159Z"
    }
   },
   "outputs": [
    {
     "data": {
      "text/plain": [
       "Mr        240\n",
       "Miss       79\n",
       "Mrs        72\n",
       "Master     21\n",
       "Other       6\n",
       "Name: Title, dtype: int64"
      ]
     },
     "execution_count": 23,
     "metadata": {},
     "output_type": "execute_result"
    }
   ],
   "source": [
    "# Title extraction and categorization for minimizing complexity\n",
    "train['Title'] = train['Name'].str.extract(' ([A-Za-z]+)\\.', expand=False)\n",
    "train['Title'] = train['Title'].replace(['Lady', 'Countess','Capt', 'Col','Don', 'Dr', 'Major', 'Rev', 'Sir', 'Jonkheer', 'Dona'], 'Other')\n",
    "\n",
    "train['Title'].value_counts()\n",
    "# Mr        517\n",
    "# Miss      182\n",
    "# Mrs       125\n",
    "# Master     40\n",
    "# Other      23\n",
    "# Mlle        2\n",
    "# Ms          1\n",
    "# Mme         1\n",
    "# Name: Title, dtype: int64\n",
    "\n",
    "# Cleasing and integration of typo(expected) and others\n",
    "train['Title'] = train['Title'].replace('Mlle', 'Miss')\n",
    "train['Title'] = train['Title'].replace('Ms', 'Miss')\n",
    "train['Title'] = train['Title'].replace('Mme', 'Mrs')\n",
    "\n",
    "#train['Title'].value_counts()\n",
    "# Mr        517\n",
    "# Miss      185\n",
    "# Mrs       126\n",
    "# Master     40\n",
    "# Other      23\n",
    "# Name: Title, dtype: int64\n",
    "\n",
    "# Same Process for test dataset\n",
    "test['Title'] = test['Name'].str.extract(' ([A-Za-z]+)\\.', expand=False)\n",
    "test['Title'] = test['Title'].replace(['Lady', 'Countess','Capt', 'Col','Don', 'Dr', 'Major', 'Rev', 'Sir', 'Jonkheer', 'Dona'], 'Other')\n",
    "\n",
    "test['Title'] = test['Title'].replace('Mlle', 'Miss')\n",
    "test['Title'] = test['Title'].replace('Ms', 'Miss')\n",
    "test['Title'] = test['Title'].replace('Mme', 'Mrs')\n",
    "\n",
    "test['Title'].value_counts()\n",
    "# Mr        240\n",
    "# Miss       79\n",
    "# Mrs        72\n",
    "# Master     21\n",
    "# Other       6\n",
    "# Name: Title, dtype: int64\n"
   ]
  },
  {
   "cell_type": "code",
   "execution_count": 25,
   "id": "655a9bda",
   "metadata": {
    "ExecuteTime": {
     "end_time": "2022-08-04T19:37:34.168783Z",
     "start_time": "2022-08-04T19:37:34.157811Z"
    }
   },
   "outputs": [],
   "source": [
    "# Transition of categorical data into numeric value\n",
    "train['Title_clean'] = train['Title'].astype('category').cat.codes\n",
    "test['Title_clean'] = test['Title'].astype('category').cat.codes"
   ]
  },
  {
   "cell_type": "code",
   "execution_count": null,
   "id": "56a899c2",
   "metadata": {},
   "outputs": [],
   "source": []
  }
 ],
 "metadata": {
  "kernelspec": {
   "display_name": "Python 3",
   "language": "python",
   "name": "python3"
  },
  "language_info": {
   "codemirror_mode": {
    "name": "ipython",
    "version": 3
   },
   "file_extension": ".py",
   "mimetype": "text/x-python",
   "name": "python",
   "nbconvert_exporter": "python",
   "pygments_lexer": "ipython3",
   "version": "3.8.8"
  },
  "varInspector": {
   "cols": {
    "lenName": 16,
    "lenType": 16,
    "lenVar": 40
   },
   "kernels_config": {
    "python": {
     "delete_cmd_postfix": "",
     "delete_cmd_prefix": "del ",
     "library": "var_list.py",
     "varRefreshCmd": "print(var_dic_list())"
    },
    "r": {
     "delete_cmd_postfix": ") ",
     "delete_cmd_prefix": "rm(",
     "library": "var_list.r",
     "varRefreshCmd": "cat(var_dic_list()) "
    }
   },
   "types_to_exclude": [
    "module",
    "function",
    "builtin_function_or_method",
    "instance",
    "_Feature"
   ],
   "window_display": false
  }
 },
 "nbformat": 4,
 "nbformat_minor": 5
}
