{
 "cells": [
  {
   "cell_type": "markdown",
   "id": "cad89f53",
   "metadata": {
    "ExecuteTime": {
     "end_time": "2022-08-04T16:29:22.393118Z",
     "start_time": "2022-08-04T16:29:21.164894Z"
    }
   },
   "source": [
    "# Kaggle Data Competition: Titanic - Machine Learning from Disaster"
   ]
  },
  {
   "cell_type": "markdown",
   "id": "491aea54",
   "metadata": {},
   "source": [
    "### Environment Setup"
   ]
  },
  {
   "cell_type": "code",
   "execution_count": 41,
   "id": "1f18778f",
   "metadata": {
    "ExecuteTime": {
     "end_time": "2022-08-07T19:56:47.052278Z",
     "start_time": "2022-08-07T19:56:47.026289Z"
    }
   },
   "outputs": [],
   "source": [
    "# Dataset: https://www.kaggle.com/c/titanic/data\n",
    "# Initial Kaggle Setup\n",
    "import pandas as pd\n",
    "import warnings\n",
    "import matplotlib.pyplot as plt\n",
    "\n",
    "# Ignoring warning sign\n",
    "%matplotlib inline\n",
    "warnings.filterwarnings('ignore')\n",
    "\n",
    "# data import\n",
    "train = pd.read_csv('data/train.csv')\n",
    "test = pd.read_csv('data/test.csv')\n",
    "gender_submission = pd.read_csv('data/gender_submission.csv')\n",
    "\n",
    "#train.info()"
   ]
  },
  {
   "cell_type": "markdown",
   "id": "b60a8ead",
   "metadata": {},
   "source": [
    "### DataSet Information\n",
    "\n",
    "|Variable|Definition|Key|\n",
    "|------|---|---|\n",
    "|survival|Survival|0 = No, 1 = Yes|\n",
    "|pclass|Ticket class|1 = 1st, 2 = 2nd, 3 = 3rd|\n",
    "|Sex|Sex||\n",
    "|Age|Age in years||\n",
    "|sibsp|# of siblings / spouses aboard the Titanic||\n",
    "|parch|# of parents / children aboard the Titanic||\n",
    "|ticket|Ticket number||\n",
    "|fare|Passenger fare||\n",
    "|cabin|Cabin number||\n",
    "|embarked|Port of Embarkation|C = Cherbourg, Q = Queenstown, S = Southampton|\n",
    "\n",
    "### Variable Notes\n",
    "pclass: A proxy for socio-economic status (SES)\n",
    "1st = Upper\n",
    "2nd = Middle\n",
    "3rd = Lower\n",
    "age: Age is fractional if less than 1. If the age is estimated, is it in the form of xx.5\n",
    "sibsp: The dataset defines family relations in this way...\n",
    "Sibling = brother, sister, stepbrother, stepsister\n",
    "Spouse = husband, wife (mistresses and fiancés were ignored)\n",
    "parch: The dataset defines family relations in this way...\n",
    "Parent = mother, father\n",
    "Child = daughter, son, stepdaughter, stepson\n",
    "Some children travelled only with a nanny, therefore parch=0 for them.\n"
   ]
  },
  {
   "cell_type": "code",
   "execution_count": 42,
   "id": "f8354dbe",
   "metadata": {
    "ExecuteTime": {
     "end_time": "2022-08-07T19:56:49.081603Z",
     "start_time": "2022-08-07T19:56:49.071608Z"
    }
   },
   "outputs": [],
   "source": [
    "# transition of categorical data into numeric value\n",
    "train['Sex_clean'] = train['Sex'].astype('category').cat.codes\n",
    "test['Sex_clean'] = test['Sex'].astype('category').cat.codes"
   ]
  },
  {
   "cell_type": "markdown",
   "id": "56f587d7",
   "metadata": {},
   "source": [
    "### Preprocessing - Embarked"
   ]
  },
  {
   "cell_type": "code",
   "execution_count": 43,
   "id": "533bcc2e",
   "metadata": {
    "ExecuteTime": {
     "end_time": "2022-08-07T19:56:50.766138Z",
     "start_time": "2022-08-07T19:56:50.748131Z"
    }
   },
   "outputs": [],
   "source": [
    "train['Embarked'].isnull().sum()\n",
    "#2\n",
    "\n",
    "test['Embarked'].isnull().sum()\n",
    "# 0\n",
    "train['Embarked'].value_counts()\n",
    "# S    644 <- Pick this to fill NaN\n",
    "# C    168\n",
    "# Q     77\n",
    "\n",
    "# Fill the NaN Values\n",
    "train['Embarked'].fillna('S', inplace=True)\n",
    "\n",
    "# Transition of categorical data into numeric value\n",
    "train['Embarked_clean'] = train['Embarked'].astype('category').cat.codes\n",
    "test['Embarked_clean'] = test['Embarked'].astype('category').cat.codes"
   ]
  },
  {
   "cell_type": "markdown",
   "id": "69043278",
   "metadata": {},
   "source": [
    "### Preprocessing - Family"
   ]
  },
  {
   "cell_type": "code",
   "execution_count": 44,
   "id": "8ad019d7",
   "metadata": {
    "ExecuteTime": {
     "end_time": "2022-08-07T19:56:52.157113Z",
     "start_time": "2022-08-07T19:56:52.148164Z"
    }
   },
   "outputs": [],
   "source": [
    "# Add Family and Solo Count, to clarify if solo status matters\n",
    "train['Family'] = 1 + train['SibSp'] + train['Parch']\n",
    "test['Family'] = 1 + test['SibSp'] + test['Parch']"
   ]
  },
  {
   "cell_type": "markdown",
   "id": "07a14ead",
   "metadata": {},
   "source": [
    "### Preprocessing - Solo"
   ]
  },
  {
   "cell_type": "code",
   "execution_count": 45,
   "id": "8e8c2438",
   "metadata": {
    "ExecuteTime": {
     "end_time": "2022-08-07T19:56:53.475894Z",
     "start_time": "2022-08-07T19:56:53.466909Z"
    }
   },
   "outputs": [],
   "source": [
    "train['Solo'] = (train['Family'] == 1)\n",
    "test['Solo'] = (test['Family'] == 1)"
   ]
  },
  {
   "cell_type": "markdown",
   "id": "1feb7423",
   "metadata": {},
   "source": [
    "### Preprocessing - Fare"
   ]
  },
  {
   "cell_type": "code",
   "execution_count": 46,
   "id": "6f258687",
   "metadata": {
    "ExecuteTime": {
     "end_time": "2022-08-07T19:56:54.854995Z",
     "start_time": "2022-08-07T19:56:54.796594Z"
    }
   },
   "outputs": [
    {
     "data": {
      "text/plain": [
       "1    184\n",
       "3    180\n",
       "0    179\n",
       "4    176\n",
       "2    172\n",
       "Name: Fare_clean, dtype: int64"
      ]
     },
     "execution_count": 46,
     "metadata": {},
     "output_type": "execute_result"
    }
   ],
   "source": [
    "train['FareBin'] = pd.qcut(train['Fare'], 5)\n",
    "test['FareBin'] = pd.qcut(test['Fare'], 5)\n",
    "\n",
    "train['FareBin'].value_counts()\n",
    "# (7.854, 10.5]        184\n",
    "# (21.679, 39.688]     180\n",
    "# (-0.001, 7.854]      179\n",
    "# (39.688, 512.329]    176\n",
    "# (10.5, 21.679]       172\n",
    "# Name: FareBin, dtype: int64\n",
    "\n",
    "train['Fare_clean'] = train['FareBin'].astype('category').cat.codes\n",
    "test['Fare_clean'] = test['FareBin'].astype('category').cat.codes\n",
    "\n",
    "train['Fare_clean'].value_counts()\n",
    "# 1    184\n",
    "# 3    180\n",
    "# 0    179\n",
    "# 4    176\n",
    "# 2    172\n",
    "# Name: Fare_clean, dtype: int64"
   ]
  },
  {
   "cell_type": "markdown",
   "id": "b1ebeaa2",
   "metadata": {},
   "source": [
    "### Preprocessing - Title"
   ]
  },
  {
   "cell_type": "code",
   "execution_count": 47,
   "id": "53777156",
   "metadata": {
    "ExecuteTime": {
     "end_time": "2022-08-07T19:56:56.359189Z",
     "start_time": "2022-08-07T19:56:56.343215Z"
    }
   },
   "outputs": [
    {
     "data": {
      "text/plain": [
       "Mr        240\n",
       "Miss       79\n",
       "Mrs        72\n",
       "Master     21\n",
       "Other       6\n",
       "Name: Title, dtype: int64"
      ]
     },
     "execution_count": 47,
     "metadata": {},
     "output_type": "execute_result"
    }
   ],
   "source": [
    "# Title extraction and categorization for minimizing complexity\n",
    "train['Title'] = train['Name'].str.extract(' ([A-Za-z]+)\\.', expand=False)\n",
    "train['Title'] = train['Title'].replace(['Lady', 'Countess','Capt', 'Col','Don', 'Dr', 'Major', 'Rev', 'Sir', 'Jonkheer', 'Dona'], 'Other')\n",
    "\n",
    "train['Title'].value_counts()\n",
    "# Mr        517\n",
    "# Miss      182\n",
    "# Mrs       125\n",
    "# Master     40\n",
    "# Other      23\n",
    "# Mlle        2\n",
    "# Ms          1\n",
    "# Mme         1\n",
    "# Name: Title, dtype: int64\n",
    "\n",
    "# Cleasing and integration of typo(expected) and others\n",
    "train['Title'] = train['Title'].replace('Mlle', 'Miss')\n",
    "train['Title'] = train['Title'].replace('Ms', 'Miss')\n",
    "train['Title'] = train['Title'].replace('Mme', 'Mrs')\n",
    "\n",
    "#train['Title'].value_counts()\n",
    "# Mr        517\n",
    "# Miss      185\n",
    "# Mrs       126\n",
    "# Master     40\n",
    "# Other      23\n",
    "# Name: Title, dtype: int64\n",
    "\n",
    "# Same Process for test dataset\n",
    "test['Title'] = test['Name'].str.extract(' ([A-Za-z]+)\\.', expand=False)\n",
    "test['Title'] = test['Title'].replace(['Lady', 'Countess','Capt', 'Col','Don', 'Dr', 'Major', 'Rev', 'Sir', 'Jonkheer', 'Dona'], 'Other')\n",
    "\n",
    "test['Title'] = test['Title'].replace('Mlle', 'Miss')\n",
    "test['Title'] = test['Title'].replace('Ms', 'Miss')\n",
    "test['Title'] = test['Title'].replace('Mme', 'Mrs')\n",
    "\n",
    "test['Title'].value_counts()\n",
    "# Mr        240\n",
    "# Miss       79\n",
    "# Mrs        72\n",
    "# Master     21\n",
    "# Other       6\n",
    "# Name: Title, dtype: int64\n"
   ]
  },
  {
   "cell_type": "code",
   "execution_count": 48,
   "id": "40409e40",
   "metadata": {
    "ExecuteTime": {
     "end_time": "2022-08-07T19:56:57.978468Z",
     "start_time": "2022-08-07T19:56:57.960948Z"
    }
   },
   "outputs": [],
   "source": [
    "# Transition of categorical data into numeric value\n",
    "train['Title_clean'] = train['Title'].astype('category').cat.codes\n",
    "test['Title_clean'] = test['Title'].astype('category').cat.codes"
   ]
  },
  {
   "cell_type": "markdown",
   "id": "a77ac541",
   "metadata": {},
   "source": [
    "### Preprocessing - Age"
   ]
  },
  {
   "cell_type": "code",
   "execution_count": 49,
   "id": "0adca49a",
   "metadata": {
    "ExecuteTime": {
     "end_time": "2022-08-07T19:56:59.315229Z",
     "start_time": "2022-08-07T19:56:59.306258Z"
    }
   },
   "outputs": [],
   "source": [
    "train['Age'].isnull().sum()\n",
    "# 177\n",
    "\n",
    "test['Age'].isnull().sum()\n",
    "# 86\n",
    "\n",
    "train[\"Age\"].fillna(train.groupby(\"Title\")[\"Age\"].transform(\"median\"), inplace=True)\n",
    "test[\"Age\"].fillna(test.groupby(\"Title\")[\"Age\"].transform(\"median\"), inplace=True)"
   ]
  },
  {
   "cell_type": "code",
   "execution_count": 50,
   "id": "e68effd1",
   "metadata": {
    "ExecuteTime": {
     "end_time": "2022-08-07T19:57:00.649187Z",
     "start_time": "2022-08-07T19:57:00.618236Z"
    }
   },
   "outputs": [],
   "source": [
    "# Train\n",
    "train.loc[ train['Age'] <= 10, 'Age_clean'] = 0\n",
    "train.loc[(train['Age'] > 10) & (train['Age'] <= 16), 'Age_clean'] = 1\n",
    "train.loc[(train['Age'] > 16) & (train['Age'] <= 20), 'Age_clean'] = 2\n",
    "train.loc[(train['Age'] > 20) & (train['Age'] <= 26), 'Age_clean'] = 3\n",
    "train.loc[(train['Age'] > 26) & (train['Age'] <= 30), 'Age_clean'] = 4\n",
    "train.loc[(train['Age'] > 30) & (train['Age'] <= 36), 'Age_clean'] = 5\n",
    "train.loc[(train['Age'] > 36) & (train['Age'] <= 40), 'Age_clean'] = 6\n",
    "train.loc[(train['Age'] > 40) & (train['Age'] <= 46), 'Age_clean'] = 7\n",
    "train.loc[(train['Age'] > 46) & (train['Age'] <= 50), 'Age_clean'] = 8\n",
    "train.loc[(train['Age'] > 50) & (train['Age'] <= 60), 'Age_clean'] = 9\n",
    "train.loc[ train['Age'] > 60, 'Age_clean'] = 10\n",
    "\n",
    "# Test\n",
    "test.loc[ test['Age'] <= 10, 'Age_clean'] = 0\n",
    "test.loc[(test['Age'] > 10) & (test['Age'] <= 16), 'Age_clean'] = 1\n",
    "test.loc[(test['Age'] > 16) & (test['Age'] <= 20), 'Age_clean'] = 2\n",
    "test.loc[(test['Age'] > 20) & (test['Age'] <= 26), 'Age_clean'] = 3\n",
    "test.loc[(test['Age'] > 26) & (test['Age'] <= 30), 'Age_clean'] = 4\n",
    "test.loc[(test['Age'] > 30) & (test['Age'] <= 36), 'Age_clean'] = 5\n",
    "test.loc[(test['Age'] > 36) & (test['Age'] <= 40), 'Age_clean'] = 6\n",
    "test.loc[(test['Age'] > 40) & (test['Age'] <= 46), 'Age_clean'] = 7\n",
    "test.loc[(test['Age'] > 46) & (test['Age'] <= 50), 'Age_clean'] = 8\n",
    "test.loc[(test['Age'] > 50) & (test['Age'] <= 60), 'Age_clean'] = 9\n",
    "test.loc[ test['Age'] > 60, 'Age_clean'] = 10"
   ]
  },
  {
   "cell_type": "markdown",
   "id": "27f19ca4",
   "metadata": {},
   "source": [
    "### Preprocessing - Cabin"
   ]
  },
  {
   "cell_type": "code",
   "execution_count": 51,
   "id": "fe38b265",
   "metadata": {
    "ExecuteTime": {
     "end_time": "2022-08-07T19:57:02.092441Z",
     "start_time": "2022-08-07T19:57:02.068501Z"
    }
   },
   "outputs": [
    {
     "data": {
      "text/plain": [
       "5.0    311\n",
       "2.0    107\n",
       "Name: Cabin_clean, dtype: int64"
      ]
     },
     "execution_count": 51,
     "metadata": {},
     "output_type": "execute_result"
    }
   ],
   "source": [
    "train['Cabin'].str[:1].value_counts()\n",
    "\n",
    "# C    59\n",
    "# B    47\n",
    "# D    33\n",
    "# E    32\n",
    "# A    15\n",
    "# F    13\n",
    "# G     4\n",
    "# T     1\n",
    "# Name: Cabin, dtype: int64\n",
    "\n",
    "mapping = {\n",
    "    'A': 0,\n",
    "    'B': 1,\n",
    "    'C': 2,\n",
    "    'D': 3,\n",
    "    'E': 4,\n",
    "    'F': 5,\n",
    "    'G': 6,\n",
    "    'T': 7\n",
    "}\n",
    "\n",
    "train['Cabin_clean'] = train['Cabin'].str[:1]\n",
    "train['Cabin_clean'] = train['Cabin_clean'].map(mapping)\n",
    "train['Cabin_clean'] = train.groupby('Pclass')['Cabin_clean'].transform('median')\n",
    "\n",
    "test['Cabin_clean'] = test['Cabin'].str[:1]\n",
    "test['Cabin_clean'] = test['Cabin_clean'].map(mapping)\n",
    "test['Cabin_clean'] = test.groupby('Pclass')['Cabin_clean'].transform('median')\n",
    "\n",
    "train['Cabin_clean'].value_counts()\n",
    "# 5.0    491\n",
    "# 2.0    216\n",
    "# 4.5    184\n",
    "# Name: Cabin_clean, dtype: int64\n",
    "\n",
    "test['Cabin_clean'].value_counts()\n",
    "# 5.0    311\n",
    "# 2.0    107\n",
    "# Name: Cabin_clean, dtype: int64"
   ]
  },
  {
   "cell_type": "markdown",
   "id": "7b116b58",
   "metadata": {},
   "source": [
    "### Feature"
   ]
  },
  {
   "cell_type": "code",
   "execution_count": 52,
   "id": "525b9a03",
   "metadata": {
    "ExecuteTime": {
     "end_time": "2022-08-07T19:57:03.997772Z",
     "start_time": "2022-08-07T19:57:03.990791Z"
    }
   },
   "outputs": [],
   "source": [
    "feature = [\n",
    "    'Pclass',\n",
    "    'SibSp',\n",
    "    'Parch',\n",
    "    'Sex_clean',\n",
    "    'Embarked_clean',\n",
    "    'Family',\n",
    "    'Solo',\n",
    "    'Title_clean',\n",
    "    'Age_clean',\n",
    "    'Cabin_clean',\n",
    "    'Fare_clean',\n",
    "]\n",
    "\n",
    "label = [\n",
    "    'Survived',\n",
    "]"
   ]
  },
  {
   "cell_type": "markdown",
   "id": "41689812",
   "metadata": {},
   "source": [
    "### Methodology\n",
    "\n",
    "1. RamdomForestClassifier\n",
    " - Dataset Complexity is not serious\n",
    " - Size is not huge\n",
    " - Minimize the n_estimator"
   ]
  },
  {
   "cell_type": "markdown",
   "id": "8fe2260d",
   "metadata": {},
   "source": [
    "### Cross Validation Score"
   ]
  },
  {
   "cell_type": "code",
   "execution_count": 53,
   "id": "d1ef278f",
   "metadata": {
    "ExecuteTime": {
     "end_time": "2022-08-07T19:57:05.737597Z",
     "start_time": "2022-08-07T19:57:05.721514Z"
    }
   },
   "outputs": [],
   "source": [
    "from sklearn.model_selection import KFold, cross_val_score\n",
    "from sklearn.ensemble import RandomForestClassifier\n",
    "\n",
    "data = train[feature]\n",
    "target = train[label]"
   ]
  },
  {
   "cell_type": "markdown",
   "id": "fe7df26a",
   "metadata": {},
   "source": [
    "### Make Prediction"
   ]
  },
  {
   "cell_type": "code",
   "execution_count": 54,
   "id": "e1cd9a8c",
   "metadata": {
    "ExecuteTime": {
     "end_time": "2022-08-07T19:57:08.262032Z",
     "start_time": "2022-08-07T19:57:08.182099Z"
    }
   },
   "outputs": [],
   "source": [
    "x_train = train[feature]\n",
    "x_test = test[feature]\n",
    "y_train = train[label]\n",
    "\n",
    "clf = RandomForestClassifier(n_estimators=50, max_depth=6, random_state=0)\n",
    "clf.fit(x_train, y_train)\n",
    "gender_submission['Survived'] = clf.predict(x_test)\n",
    "gender_submission.to_csv('titanic-submission.csv',index=False)"
   ]
  }
 ],
 "metadata": {
  "kernelspec": {
   "display_name": "Python 3",
   "language": "python",
   "name": "python3"
  },
  "language_info": {
   "codemirror_mode": {
    "name": "ipython",
    "version": 3
   },
   "file_extension": ".py",
   "mimetype": "text/x-python",
   "name": "python",
   "nbconvert_exporter": "python",
   "pygments_lexer": "ipython3",
   "version": "3.8.8"
  },
  "varInspector": {
   "cols": {
    "lenName": 16,
    "lenType": 16,
    "lenVar": 40
   },
   "kernels_config": {
    "python": {
     "delete_cmd_postfix": "",
     "delete_cmd_prefix": "del ",
     "library": "var_list.py",
     "varRefreshCmd": "print(var_dic_list())"
    },
    "r": {
     "delete_cmd_postfix": ") ",
     "delete_cmd_prefix": "rm(",
     "library": "var_list.r",
     "varRefreshCmd": "cat(var_dic_list()) "
    }
   },
   "types_to_exclude": [
    "module",
    "function",
    "builtin_function_or_method",
    "instance",
    "_Feature"
   ],
   "window_display": false
  }
 },
 "nbformat": 4,
 "nbformat_minor": 5
}
